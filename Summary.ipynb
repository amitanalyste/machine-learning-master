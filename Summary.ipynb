{
 "cells": [
  {
   "cell_type": "markdown",
   "metadata": {},
   "source": [
    "## Machine Learning\n",
    "#### Supervised Learning\n",
    "* k-Nearest Neighbors\n",
    "* Linear Regression\n",
    "* Logistic Regression\n",
    "* Support Vector Machines(SVMs)\n",
    "* Decision Trees and Random Forests\n",
    "* Neural Networks\n",
    "\n",
    "#### Unsupervised Learning\n",
    "* Clustering\n",
    "    * k-Means \n",
    "    * Hierarchial Cluster Analysis(HCA) \n",
    "    * Expectation Maximization \n",
    "* Visualization and dimensionality reduction\n",
    "    * Principal Component Analysis (PCA) \n",
    "    * Kernel PCA \n",
    "    * Locally-Linear Embedding (LLE) \n",
    "    * t-distributed Stochastic Neighbor Embedding (t-SNE) \n",
    "* Association rule learning\n",
    "    * Apriori \n",
    "    * Eclat \n"
   ]
  },
  {
   "cell_type": "markdown",
   "metadata": {
    "collapsed": true
   },
   "source": [
    "### Confusion Matrix\n",
    "* Precision = $\\frac{TP}{TP + FP}$\n",
    "* Recall = $\\frac{TP}{TP + FN}$\n",
    "* F1 = $\\frac{2}{{{\\frac{1}{precision}} + {\\frac{1}{recall}}}}$ = $\\frac{TP}{TP + \\frac{FN+FP}{2}}$"
   ]
  },
  {
   "cell_type": "markdown",
   "metadata": {},
   "source": [
    "### Regression\n",
    "1. Linear Regression\n",
    "1. Gradient Descent\n",
    "1. Batch Gradient Descent\n",
    "1. Stochastic Gradient Descent\n",
    "1. Mini-batch Gradient Descent\n",
    "1. Polynomial Regression\n",
    "\n",
    "* Learning Curves\n",
    "* Bias/Variance Tradeoff\n",
    "\n",
    "### Regularized Linear Regression\n"
   ]
  },
  {
   "cell_type": "code",
   "execution_count": null,
   "metadata": {
    "collapsed": true
   },
   "outputs": [],
   "source": []
  }
 ],
 "metadata": {
  "anaconda-cloud": {},
  "kernelspec": {
   "display_name": "Python [default]",
   "language": "python",
   "name": "python3"
  },
  "language_info": {
   "codemirror_mode": {
    "name": "ipython",
    "version": 3
   },
   "file_extension": ".py",
   "mimetype": "text/x-python",
   "name": "python",
   "nbconvert_exporter": "python",
   "pygments_lexer": "ipython3",
   "version": "3.5.2"
  }
 },
 "nbformat": 4,
 "nbformat_minor": 2
}
